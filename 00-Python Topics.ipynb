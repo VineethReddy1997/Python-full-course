{
 "cells": [
  {
   "cell_type": "markdown",
   "id": "0123b0ee",
   "metadata": {},
   "source": [
    "###### <span style ='color:green'>vineethreddy@techie👨‍💻</span>"
   ]
  },
  {
   "cell_type": "markdown",
   "id": "81475a50",
   "metadata": {},
   "source": [
    "# <div style=\"text-align: center;\"><span style=\"color: red;\">List of topics in python 📝</span></div>\n"
   ]
  },
  {
   "cell_type": "markdown",
   "id": "8c4dbf85",
   "metadata": {},
   "source": [
    "## 1.Python Introduction\n",
    "* What is Programming?\n",
    "* What is Coding?\n",
    "* What is Python\n",
    "* Python Used for?\n",
    "* What can Python do?\n",
    "* Why Python? \n",
    "* Python Library\n",
    "* Python Modules\n",
    "* Python Webframework\n",
    "* Syntax of Python\n",
    "* Execute Python Syntax\n",
    "* Python Syntax compared to other programming languages\n",
    "* Python Installation\n",
    "* Install The Jupyter Notebook forWriting Code is Used Mainly Data Scince Purpose"
   ]
  },
  {
   "cell_type": "markdown",
   "id": "ae50727f",
   "metadata": {},
   "source": [
    "## 2.Fundamentals of Python\n",
    "* The print statement\n",
    "* Comments\n",
    "* Python Data Structures & Data Types\n",
    "* String Operations in Python\n",
    "* Python keywords\n",
    "* Python Variables\n",
    "* Python Type Conversions\n",
    "* Simple Input & Output"
   ]
  },
  {
   "cell_type": "markdown",
   "id": "93ee7b7e",
   "metadata": {},
   "source": [
    "## 3.Python Operators\n",
    "* Arithmetic operators\n",
    "* Assignment operators\n",
    "* Comparison operators\n",
    "* Logical operators\n",
    "* Identity operators\n",
    "* Membership operators & Output\n",
    "* Simple Output Formatting\n",
    "* bitwise operator"
   ]
  },
  {
   "cell_type": "markdown",
   "id": "62e9e539",
   "metadata": {},
   "source": [
    "## 4.Python Conditional Statements\n",
    "* Indentation \n",
    "* The If statement and its’ related statement \n",
    "* An example with if and it’s related statement\n",
    "* Else\n",
    "* Nested If\n",
    "* Short Hand If\n",
    "* Short Hand If else & Continue\n",
    "* Examples for Conditional Statements"
   ]
  },
  {
   "cell_type": "markdown",
   "id": "8b0386c9",
   "metadata": {},
   "source": [
    "## 5.Python Iterative Statements\n",
    "* Indentation \n",
    "* The for statement and its’ related statement \n",
    "* An example with for and it’s related statement\n",
    "* While\n",
    "* Nested for\n",
    "* Nested While\n",
    "* Examples for Looping Statements"
   ]
  },
  {
   "cell_type": "markdown",
   "id": "4db50d9b",
   "metadata": {},
   "source": [
    "## 6.Python Jumping Statements\n",
    "\n",
    "* The Break statement and its’ related statement \n",
    "* An example with Break and it’s related statement\n",
    "* Continue Statement and it's related statement\n",
    "* Pass\n",
    "* Examples for Jumping Statements"
   ]
  },
  {
   "cell_type": "markdown",
   "id": "102df716",
   "metadata": {},
   "source": [
    "## 7.Python Strings\n",
    "* String Introduction\n",
    "* String object basics\n",
    "* String methods\n",
    "* Splitting and Joining strings\n",
    "* String format function"
   ]
  },
  {
   "cell_type": "markdown",
   "id": "f61fec76",
   "metadata": {},
   "source": [
    "## 8.Python Lists\n",
    "* List basics\n",
    "* List methods\n",
    "* Nested List\n",
    "* List comprehensions"
   ]
  },
  {
   "cell_type": "markdown",
   "id": "ffd3f67e",
   "metadata": {},
   "source": [
    "## 9.Python Tuples\n",
    "* Introduction to Tuples\n",
    "* Tuples with built-in functions\n",
    "* Tuple operations\n"
   ]
  },
  {
   "cell_type": "markdown",
   "id": "913f31f6",
   "metadata": {},
   "source": [
    "## 10.Python Sets\n",
    "* Introduction to Sets\n",
    "* Sets with built-in functions\n",
    "* Set Operations\n",
    "* Set with functions"
   ]
  },
  {
   "cell_type": "markdown",
   "id": "a374fa8c",
   "metadata": {},
   "source": [
    "## 11.Python Dictionary\n",
    "* Introduction to Dictionary\n",
    "* Dictionary with built-in functions\n",
    "* Dictionary with functions"
   ]
  },
  {
   "cell_type": "markdown",
   "id": "2add1314",
   "metadata": {},
   "source": [
    "## 12.Python Functions\n",
    "* Defining a function\n",
    "* Calling a function\n",
    "* return statement\n",
    "* Difference between return and print\n",
    "* Arguments\n",
    "* Parameters\n",
    "* Keyword arguments\n",
    "* Arbitrary argument\n",
    "* User defined functions\n",
    "* Nested functions\n",
    "* Creating Functions with real time examples"
   ]
  },
  {
   "cell_type": "markdown",
   "id": "dbfb8044",
   "metadata": {},
   "source": [
    "## 13.Advanced Python Functions\n",
    "* Lambda function\n",
    "* Map function\n",
    "* return statement vs Yield\n",
    "* Difference between return and print\n",
    "* filter Function\n",
    "* Generator\n",
    "* Reduce Function\n",
    "* Yield Keyword\n",
    "* Advanced Functions with real time examples"
   ]
  },
  {
   "cell_type": "markdown",
   "id": "fd1dba29",
   "metadata": {},
   "source": [
    "## 14.Object-oriented Programming with Python\n",
    "* Introduction to Classes\n",
    "    * Creation of Classes\n",
    "    * Real time examples of Classes\n",
    "* Creation of Objects\n",
    "* init\n",
    "* self keyword\n",
    "* super keyword\n",
    "* Inheritance\n",
    "* Types of Inheritance:\n",
    "    * Single Inheritance.\n",
    "    * Multiple Inheritance.\n",
    "    * Multi-Level Inheritance.\n",
    "    * Hierarchical Inheritance.\n",
    "* Polymorphism:\n",
    "    * Method overloading\n",
    "    * Method overriding\n",
    "* Encapsulation\n",
    "    * Private\n",
    "    * Public\n",
    "    * Protected\n",
    "* Data Abstraction or Abstraction\n",
    "    * Abc class\n",
    "    * Abstract method\n",
    "    * Realtime example of Data Abstraction"
   ]
  },
  {
   "cell_type": "markdown",
   "id": "1c4c3d8a",
   "metadata": {},
   "source": [
    "## 15.File Handling with Python\n",
    "* Introduction to File Handling\n",
    "* File modes\n",
    "* with keyword\n",
    "* Working with files\n",
    "* Reading and writing files\n",
    "* Buffered read and write\n",
    "* Other File methods\n",
    "* Tell Function\n",
    "* Read Line Function\n",
    "* Read Lines Function\n",
    "* WriteLines Function\n",
    "* Other File methods\n",
    "* Seek Function"
   ]
  },
  {
   "cell_type": "markdown",
   "id": "f788fac0",
   "metadata": {},
   "source": [
    "## 16.Errors and Exception Handling with Python\n",
    "* Type of Errors\n",
    "* Exceptions Handling with try-except and finally\n"
   ]
  },
  {
   "cell_type": "markdown",
   "id": "44d5e64a",
   "metadata": {},
   "source": [
    "\n",
    "# <div style=\"text-align: center;\"><span style=\"color: red;\">Happy Learning😊❤️</span></div>\n"
   ]
  },
  {
   "cell_type": "markdown",
   "id": "850a5e23",
   "metadata": {},
   "source": [
    "#### <font color='green'> Created by [Vineeth Reddy](https://linktr.ee/vineethreddy1997)</font>"
   ]
  }
 ],
 "metadata": {
  "kernelspec": {
   "display_name": "Python 3 (ipykernel)",
   "language": "python",
   "name": "python3"
  },
  "language_info": {
   "codemirror_mode": {
    "name": "ipython",
    "version": 3
   },
   "file_extension": ".py",
   "mimetype": "text/x-python",
   "name": "python",
   "nbconvert_exporter": "python",
   "pygments_lexer": "ipython3",
   "version": "3.9.13"
  }
 },
 "nbformat": 4,
 "nbformat_minor": 5
}
